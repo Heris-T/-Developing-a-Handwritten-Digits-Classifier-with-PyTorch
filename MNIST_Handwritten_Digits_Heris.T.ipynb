{
 "cells": [
  {
   "cell_type": "markdown",
   "metadata": {},
   "source": [
    "# Introduction\n",
    "\n",
    "In this project, you will build a neural network of your own design to evaluate the MNIST dataset.\n",
    "\n",
    "Some of the benchmark results on MNIST include can be found [on Yann LeCun's page](https://webcache.googleusercontent.com/search?q=cache:stAVPik6onEJ:yann.lecun.com/exdb/mnist) and include:\n",
    "\n",
    "88% [Lecun et al., 1998](https://hal.science/hal-03926082/document)\n",
    "\n",
    "95.3% [Lecun et al., 1998](https://hal.science/hal-03926082v1/document)\n",
    "\n",
    "99.65% [Ciresan et al., 2011](http://people.idsia.ch/~juergen/ijcai2011.pdf)\n",
    "\n",
    "\n",
    "MNIST is a great dataset for sanity checking your models, since the accuracy levels achieved by large convolutional neural networks and small linear models are both quite high. This makes it important to be familiar with the data.\n",
    "\n",
    "## Installation"
   ]
  },
  {
   "cell_type": "code",
   "execution_count": 1,
   "metadata": {},
   "outputs": [
    {
     "name": "stdout",
     "output_type": "stream",
     "text": [
      "Defaulting to user installation because normal site-packages is not writeable\n",
      "Requirement already satisfied: ipywidgets==8.1.5 in /root/.local/lib/python3.7/site-packages (from -r requirements.txt (line 1)) (8.1.5)\n",
      "Requirement already satisfied: widgetsnbextension~=4.0.12 in /root/.local/lib/python3.7/site-packages (from ipywidgets==8.1.5->-r requirements.txt (line 1)) (4.0.14)\n",
      "Requirement already satisfied: jupyterlab-widgets~=3.0.12 in /root/.local/lib/python3.7/site-packages (from ipywidgets==8.1.5->-r requirements.txt (line 1)) (3.0.15)\n",
      "Requirement already satisfied: ipython>=6.1.0 in /opt/conda/lib/python3.7/site-packages (from ipywidgets==8.1.5->-r requirements.txt (line 1)) (7.13.0)\n",
      "Requirement already satisfied: comm>=0.1.3 in /root/.local/lib/python3.7/site-packages (from ipywidgets==8.1.5->-r requirements.txt (line 1)) (0.1.4)\n",
      "Requirement already satisfied: traitlets>=4.3.1 in /opt/conda/lib/python3.7/site-packages (from ipywidgets==8.1.5->-r requirements.txt (line 1)) (4.3.3)\n",
      "Requirement already satisfied: pickleshare in /opt/conda/lib/python3.7/site-packages (from ipython>=6.1.0->ipywidgets==8.1.5->-r requirements.txt (line 1)) (0.7.5)\n",
      "Requirement already satisfied: pexpect; sys_platform != \"win32\" in /opt/conda/lib/python3.7/site-packages (from ipython>=6.1.0->ipywidgets==8.1.5->-r requirements.txt (line 1)) (4.8.0)\n",
      "Requirement already satisfied: prompt-toolkit!=3.0.0,!=3.0.1,<3.1.0,>=2.0.0 in /opt/conda/lib/python3.7/site-packages (from ipython>=6.1.0->ipywidgets==8.1.5->-r requirements.txt (line 1)) (3.0.3)\n",
      "Requirement already satisfied: backcall in /opt/conda/lib/python3.7/site-packages (from ipython>=6.1.0->ipywidgets==8.1.5->-r requirements.txt (line 1)) (0.1.0)\n",
      "Requirement already satisfied: setuptools>=18.5 in /opt/conda/lib/python3.7/site-packages (from ipython>=6.1.0->ipywidgets==8.1.5->-r requirements.txt (line 1)) (45.2.0.post20200209)\n",
      "Requirement already satisfied: decorator in /opt/conda/lib/python3.7/site-packages (from ipython>=6.1.0->ipywidgets==8.1.5->-r requirements.txt (line 1)) (4.4.2)\n",
      "Requirement already satisfied: pygments in /opt/conda/lib/python3.7/site-packages (from ipython>=6.1.0->ipywidgets==8.1.5->-r requirements.txt (line 1)) (2.5.2)\n",
      "Requirement already satisfied: jedi>=0.10 in /opt/conda/lib/python3.7/site-packages (from ipython>=6.1.0->ipywidgets==8.1.5->-r requirements.txt (line 1)) (0.16.0)\n",
      "Requirement already satisfied: ipython-genutils in /opt/conda/lib/python3.7/site-packages (from traitlets>=4.3.1->ipywidgets==8.1.5->-r requirements.txt (line 1)) (0.2.0)\n",
      "Requirement already satisfied: six in /opt/conda/lib/python3.7/site-packages (from traitlets>=4.3.1->ipywidgets==8.1.5->-r requirements.txt (line 1)) (1.16.0)\n",
      "Requirement already satisfied: ptyprocess>=0.5 in /opt/conda/lib/python3.7/site-packages (from pexpect; sys_platform != \"win32\"->ipython>=6.1.0->ipywidgets==8.1.5->-r requirements.txt (line 1)) (0.6.0)\n",
      "Requirement already satisfied: wcwidth in /opt/conda/lib/python3.7/site-packages (from prompt-toolkit!=3.0.0,!=3.0.1,<3.1.0,>=2.0.0->ipython>=6.1.0->ipywidgets==8.1.5->-r requirements.txt (line 1)) (0.1.8)\n",
      "Requirement already satisfied: parso>=0.5.2 in /opt/conda/lib/python3.7/site-packages (from jedi>=0.10->ipython>=6.1.0->ipywidgets==8.1.5->-r requirements.txt (line 1)) (0.6.1)\n"
     ]
    }
   ],
   "source": [
    "# Restart the Kernel after you execute this command.\n",
    "\n",
    "!python -m pip install -r requirements.txt"
   ]
  },
  {
   "cell_type": "markdown",
   "metadata": {},
   "source": [
    "**Important: Restart the Kernel at this moment**"
   ]
  },
  {
   "cell_type": "markdown",
   "metadata": {},
   "source": [
    "## Imports"
   ]
  },
  {
   "cell_type": "code",
   "execution_count": 2,
   "metadata": {},
   "outputs": [],
   "source": [
    "## This cell contains the essential imports you will need – DO NOT CHANGE THE CONTENTS! ##\n",
    "import torch\n",
    "import torch.nn as nn\n",
    "import torch.nn.functional as F\n",
    "import torch.optim as optim\n",
    "import torchvision\n",
    "import torchvision.transforms as transforms\n",
    "import matplotlib.pyplot as plt\n",
    "import numpy as np\n",
    "from torch.utils.data import DataLoader, random_split\n",
    "from sklearn.metrics import confusion_matrix\n",
    "import seaborn as sns\n",
    "import pandas as pd\n",
    "import random"
   ]
  },
  {
   "cell_type": "code",
   "execution_count": 3,
   "metadata": {},
   "outputs": [
    {
     "data": {
      "text/plain": [
       "device(type='cuda')"
      ]
     },
     "execution_count": 3,
     "metadata": {},
     "output_type": "execute_result"
    }
   ],
   "source": [
    "device = torch.device('cuda' if torch.cuda.is_available() else 'cpu')\n",
    "device"
   ]
  },
  {
   "cell_type": "markdown",
   "metadata": {},
   "source": [
    "## Load the Dataset\n",
    "\n",
    "Specify your transforms as a list if you intend to .\n",
    "The transforms module is already loaded as `transforms`.\n",
    "\n",
    "MNIST is fortunately included in the torchvision module.\n",
    "Then, you can create your dataset using the `MNIST` object from `torchvision.datasets` ([the documentation is available here](https://pytorch.org/vision/stable/datasets.html#mnist)).\n",
    "Make sure to specify `download=True`! \n",
    "\n",
    "Once your dataset is created, you'll also need to define a `DataLoader` from the `torch.utils.data` module for both the train and the test set."
   ]
  },
  {
   "cell_type": "code",
   "execution_count": 4,
   "metadata": {},
   "outputs": [
    {
     "name": "stderr",
     "output_type": "stream",
     "text": [
      "/opt/conda/lib/python3.7/site-packages/torchvision/datasets/mnist.py:498: UserWarning: The given NumPy array is not writable, and PyTorch does not support non-writable tensors. This means writing to this tensor will result in undefined behavior. You may want to copy the array to protect its data or make it writable before converting it to a tensor. This type of warning will be suppressed for the rest of this program. (Triggered internally at  ../torch/csrc/utils/tensor_numpy.cpp:178.)\n",
      "  return torch.from_numpy(parsed.astype(m[2], copy=False)).view(*s)\n"
     ]
    }
   ],
   "source": [
    "# Defining transforms\n",
    "transform = transforms.Compose([transforms.ToTensor(),\n",
    "                                transforms.Normalize((0.5,), (0.5,))])\n",
    "\n",
    "# full train set and official test set\n",
    "full_train = torchvision.datasets.MNIST(root=\"data\", train=True,  download=True, transform=transform)\n",
    "test_dataset = torchvision.datasets.MNIST(root=\"data\", train=False, download=True, transform=transform)\n",
    "\n",
    "# split full train into train/val\n",
    "train_size = int(0.8 * len(full_train))\n",
    "val_size   = len(full_train) - train_size\n",
    "train_dataset, val_dataset = random_split(full_train, [train_size, val_size])\n",
    "\n",
    "# DataLoaders\n",
    "train_loader = DataLoader(train_dataset, batch_size=128, shuffle=True,  pin_memory=True, num_workers=2)\n",
    "val_loader   = DataLoader(val_dataset,   batch_size=128, shuffle=False, pin_memory=True, num_workers=2)\n",
    "test_loader  = DataLoader(test_dataset,  batch_size=128, shuffle=False, pin_memory=True, num_workers=2)\n"
   ]
  },
  {
   "cell_type": "markdown",
   "metadata": {},
   "source": [
    "## Justify your preprocessing\n",
    "\n",
    "In your own words, why did you choose the transforms you chose? If you didn't use any preprocessing steps, why not?"
   ]
  },
  {
   "cell_type": "markdown",
   "metadata": {},
   "source": [
    "I chose ToTensor() and Normalize() because they prepare the data in the right format, scale the inputs for stable training, and ensure the model learns efficiently. Since MNIST is already clean and uniform, heavier preprocessing wasn’t needed at this stage."
   ]
  },
  {
   "cell_type": "markdown",
   "metadata": {},
   "source": [
    "## Explore the Dataset\n",
    "Using matplotlib, numpy, and torch, explore the dimensions of your data.\n",
    "\n",
    "You can view images using the `show5` function defined below – it takes a data loader as an argument.\n",
    "Remember that normalized images will look really weird to you! You may want to try changing your transforms to view images.\n",
    "Typically using no transforms other than `toTensor()` works well for viewing – but not as well for training your network.\n",
    "If `show5` doesn't work, go back and check your code for creating your data loaders and your training/test sets."
   ]
  },
  {
   "cell_type": "code",
   "execution_count": 5,
   "metadata": {},
   "outputs": [],
   "source": [
    "## This cell contains a function for showing 5 images from a dataloader – DO NOT CHANGE THE CONTENTS! ##\n",
    "def show5(img_loader):\n",
    "    dataiter = iter(img_loader)\n",
    "    \n",
    "    batch = next(dataiter)\n",
    "    labels = batch[1][0:5]\n",
    "    images = batch[0][0:5]\n",
    "    for i in range(5):\n",
    "        print(int(labels[i].detach()))\n",
    "    \n",
    "        image = images[i].numpy()\n",
    "        plt.imshow(image.T.squeeze().T)\n",
    "        plt.show()"
   ]
  },
  {
   "cell_type": "code",
   "execution_count": 6,
   "metadata": {},
   "outputs": [
    {
     "name": "stdout",
     "output_type": "stream",
     "text": [
      "1\n"
     ]
    },
    {
     "data": {
      "image/png": "[encoded data removed]",
      "text/plain": [
       "<Figure size 432x288 with 1 Axes>"
      ]
     },
     "metadata": {
      "needs_background": "light"
     },
     "output_type": "display_data"
    },
    {
     "name": "stdout",
     "output_type": "stream",
     "text": [
      "3\n"
     ]
    },
    {
     "data": {
      "image/png": "[encoded data removed]",
      "text/plain": [
       "<Figure size 432x288 with 1 Axes>"
      ]
     },
     "metadata": {
      "needs_background": "light"
     },
     "output_type": "display_data"
    },
    {
     "name": "stdout",
     "output_type": "stream",
     "text": [
      "7\n"
     ]
    },
    {
     "data": {
      "image/png": "[encoded data removed]",
      "text/plain": [
       "<Figure size 432x288 with 1 Axes>"
      ]
     },
     "metadata": {
      "needs_background": "light"
     },
     "output_type": "display_data"
    },
    {
     "name": "stdout",
     "output_type": "stream",
     "text": [
      "7\n"
     ]
    },
    {
     "data": {
      "image/png": "[encoded data removed]",
      "text/plain": [
       "<Figure size 432x288 with 1 Axes>"
      ]
     },
     "metadata": {
      "needs_background": "light"
     },
     "output_type": "display_data"
    },
    {
     "name": "stdout",
     "output_type": "stream",
     "text": [
      "7\n"
     ]
    },
    {
     "data": {
      "image/png": "[encoded data removed]",
      "text/plain": [
       "<Figure size 432x288 with 1 Axes>"
      ]
     },
     "metadata": {
      "needs_background": "light"
     },
     "output_type": "display_data"
    }
   ],
   "source": [
    "# Explore data\n",
    "show5(train_loader)"
   ]
  },
  {
   "cell_type": "markdown",
   "metadata": {},
   "source": [
    "## Build your Neural Network\n",
    "Using the layers in `torch.nn` (which has been imported as `nn`) and the `torch.nn.functional` module (imported as `F`), construct a neural network based on the parameters of the dataset.\n",
    "Use any architecture you like. \n",
    "\n",
    "*Note*: If you did not flatten your tensors in your transforms or as part of your preprocessing and you are using only `Linear` layers, make sure to use the `Flatten` layer in your network!"
   ]
  },
  {
   "cell_type": "code",
   "execution_count": 7,
   "metadata": {},
   "outputs": [],
   "source": [
    "class Net(nn.Module):\n",
    "    def __init__(self):\n",
    "        super().__init__()\n",
    "        self.activation = F.relu\n",
    "        self.layer1 = nn.Linear(28 * 28, 256)\n",
    "        self.layer2 = nn.Linear(256, 128)\n",
    "        self.layer3 = nn.Linear(128, 64)\n",
    "        self.layer4 = nn.Linear(64, 10)  # logits\n",
    "\n",
    "    def forward(self, x):\n",
    "        x = torch.flatten(x, 1)\n",
    "        x = self.activation(self.layer1(x))\n",
    "        x = self.activation(self.layer2(x))\n",
    "        x = self.activation(self.layer3(x))\n",
    "        x = self.layer4(x)               \n",
    "        return x"
   ]
  },
  {
   "cell_type": "markdown",
   "metadata": {},
   "source": [
    "Specify a loss function and an optimizer, and instantiate the model.\n",
    "\n",
    "If you use a less common loss function, please note why you chose that loss function in a comment."
   ]
  },
  {
   "cell_type": "code",
   "execution_count": 8,
   "metadata": {},
   "outputs": [],
   "source": [
    "net = Net()\n",
    "\n",
    "optimizer = optim.SGD(net.parameters(), lr=0.01, momentum=0.99, weight_decay=0.001)\n",
    "criterion = nn.CrossEntropyLoss()"
   ]
  },
  {
   "cell_type": "markdown",
   "metadata": {},
   "source": [
    "## Running your Neural Network\n",
    "Use whatever method you like to train your neural network, and ensure you record the average loss at each epoch. \n",
    "Don't forget to use `torch.device()` and the `.to()` method for both your model and your data if you are using GPU!\n",
    "\n",
    "If you want to print your loss **during** each epoch, you can use the `enumerate` function and print the loss after a set number of batches. 250 batches works well for most people!"
   ]
  },
  {
   "cell_type": "code",
   "execution_count": 9,
   "metadata": {},
   "outputs": [
    {
     "data": {
      "text/plain": [
       "Net(\n",
       "  (layer1): Linear(in_features=784, out_features=256, bias=True)\n",
       "  (layer2): Linear(in_features=256, out_features=128, bias=True)\n",
       "  (layer3): Linear(in_features=128, out_features=64, bias=True)\n",
       "  (layer4): Linear(in_features=64, out_features=10, bias=True)\n",
       ")"
      ]
     },
     "execution_count": 9,
     "metadata": {},
     "output_type": "execute_result"
    }
   ],
   "source": [
    "# Move the model to the GPU if CUDA is available\n",
    "device = torch.device(\"cuda:0\" if torch.cuda.is_available() else \"cpu\")\n",
    "net.to(device)"
   ]
  },
  {
   "cell_type": "code",
   "execution_count": 10,
   "metadata": {},
   "outputs": [
    {
     "name": "stdout",
     "output_type": "stream",
     "text": [
      "Epoch 1 training accuracy: 76.48% training loss: 0.75280\n",
      "Epoch 1 validation accuracy: 89.95% validation loss: 0.34509\n",
      "Epoch 2 training accuracy: 91.46% training loss: 0.28708\n",
      "Epoch 2 validation accuracy: 91.81% validation loss: 0.28720\n",
      "Epoch 3 training accuracy: 92.58% training loss: 0.25245\n",
      "Epoch 3 validation accuracy: 91.40% validation loss: 0.30555\n",
      "Epoch 4 training accuracy: 93.14% training loss: 0.24091\n",
      "Epoch 4 validation accuracy: 92.70% validation loss: 0.27870\n",
      "Epoch 5 training accuracy: 93.99% training loss: 0.20268\n",
      "Epoch 5 validation accuracy: 93.86% validation loss: 0.20879\n",
      "Epoch 6 training accuracy: 94.33% training loss: 0.18934\n",
      "Epoch 6 validation accuracy: 93.05% validation loss: 0.24531\n",
      "Epoch 7 training accuracy: 93.27% training loss: 0.22903\n",
      "Epoch 7 validation accuracy: 93.70% validation loss: 0.23399\n",
      "Epoch 8 training accuracy: 93.92% training loss: 0.20698\n",
      "Epoch 8 validation accuracy: 93.38% validation loss: 0.22256\n",
      "Epoch 9 training accuracy: 93.71% training loss: 0.21554\n",
      "Epoch 9 validation accuracy: 94.07% validation loss: 0.21320\n",
      "Epoch 10 training accuracy: 94.01% training loss: 0.21217\n",
      "Epoch 10 validation accuracy: 92.83% validation loss: 0.25052\n",
      "Epoch 11 training accuracy: 94.08% training loss: 0.20403\n",
      "Epoch 11 validation accuracy: 94.05% validation loss: 0.21209\n",
      "Epoch 12 training accuracy: 94.76% training loss: 0.17624\n",
      "Epoch 12 validation accuracy: 93.95% validation loss: 0.20527\n",
      "Epoch 13 training accuracy: 94.08% training loss: 0.20085\n",
      "Epoch 13 validation accuracy: 93.98% validation loss: 0.21987\n",
      "Epoch 14 training accuracy: 94.01% training loss: 0.20486\n",
      "Epoch 14 validation accuracy: 93.31% validation loss: 0.23604\n",
      "Epoch 15 training accuracy: 94.04% training loss: 0.20028\n",
      "Epoch 15 validation accuracy: 94.21% validation loss: 0.20759\n",
      "Epoch 16 training accuracy: 94.27% training loss: 0.19342\n",
      "Epoch 16 validation accuracy: 93.83% validation loss: 0.21692\n",
      "Epoch 17 training accuracy: 94.49% training loss: 0.18575\n",
      "Epoch 17 validation accuracy: 93.88% validation loss: 0.21038\n",
      "Epoch 18 training accuracy: 94.05% training loss: 0.20303\n",
      "Epoch 18 validation accuracy: 93.88% validation loss: 0.21731\n",
      "Epoch 19 training accuracy: 93.73% training loss: 0.21540\n",
      "Epoch 19 validation accuracy: 92.62% validation loss: 0.25457\n",
      "Epoch 20 training accuracy: 93.38% training loss: 0.22543\n",
      "Epoch 20 validation accuracy: 91.44% validation loss: 0.29195\n"
     ]
    }
   ],
   "source": [
    "# number of epochs\n",
    "num_epochs = 20\n",
    "\n",
    "# creating lists for loss history\n",
    "train_loss_history = list()\n",
    "val_loss_history = list()\n",
    "\n",
    "# The start of the training\n",
    "for epoch in range(num_epochs):\n",
    "    # putting the model in training mode\n",
    "    net.train()\n",
    "    # setting the epoch loss and number of correct predictions to zero\n",
    "    train_loss = 0.0\n",
    "    train_correct = 0\n",
    "    total_predictions = 0\n",
    "    \n",
    "    for i, data in enumerate(train_loader):\n",
    "        inputs, labels = data\n",
    "        \n",
    "        if torch.cuda.is_available():\n",
    "            inputs, labels = inputs.to(device), labels.to(device)\n",
    "    \n",
    "        optimizer.zero_grad()\n",
    "    \n",
    "        outputs = net(inputs)\n",
    "    \n",
    "        loss = criterion(outputs, labels)\n",
    "    \n",
    "        loss.backward()\n",
    "    \n",
    "        optimizer.step()\n",
    "    \n",
    "        _, preds = torch.max(outputs.data, 1)\n",
    "        total_predictions += labels.size(0)\n",
    "        train_correct += (preds == labels).sum().item()\n",
    "        train_loss += loss.item()\n",
    "        \n",
    "    print(f\"Epoch {epoch + 1} training accuracy: {train_correct/total_predictions * 100:.2f}% training loss: {train_loss/len(train_loader):.5f}\")\n",
    "    train_loss_history.append(train_loss/len(train_loader))\n",
    "    \n",
    "    # The validation phase\n",
    "    val_loss = 0.0\n",
    "    val_correct = 0\n",
    "    total_predictions = 0\n",
    "    net.eval()\n",
    "    for inputs, labels in val_loader:\n",
    "        if torch.cuda.is_available():\n",
    "            inputs, labels = inputs.to(device), labels.to(device)\n",
    "        \n",
    "        outputs = net(inputs)\n",
    "        loss = criterion(outputs, labels)\n",
    "        \n",
    "        _, preds = torch.max(outputs.data, 1)\n",
    "        total_predictions += labels.size(0)\n",
    "        val_correct += (preds == labels).sum().item()\n",
    "        val_loss += loss.item()\n",
    "    print(f\"Epoch {epoch + 1} validation accuracy: {val_correct/total_predictions * 100:.2f}% validation loss: {val_loss/len(val_loader):.5f}\")\n",
    "    val_loss_history.append(val_loss/len(val_loader))"
   ]
  },
  {
   "cell_type": "markdown",
   "metadata": {},
   "source": [
    "Plot the training loss (and validation loss/accuracy, if recorded)."
   ]
  },
  {
   "cell_type": "code",
   "execution_count": 11,
   "metadata": {},
   "outputs": [
    {
     "data": {
      "image/png": "[encoded data removed]",
      "text/plain": [
       "<Figure size 432x288 with 1 Axes>"
      ]
     },
     "metadata": {
      "needs_background": "light"
     },
     "output_type": "display_data"
    }
   ],
   "source": [
    "plt.plot(train_loss_history, label=\"Training Loss\")\n",
    "plt.plot(val_loss_history, label=\"Validation Loss\")\n",
    "plt.legend()\n",
    "plt.show()"
   ]
  },
  {
   "cell_type": "markdown",
   "metadata": {},
   "source": [
    "## Testing your model\n",
    "Using the previously created `DataLoader` for the test set, compute the percentage of correct predictions using the highest probability prediction. \n",
    "\n",
    "If your accuracy is over 90%, great work, but see if you can push a bit further! \n",
    "If your accuracy is under 90%, you'll need to make improvements.\n",
    "Go back and check your model architecture, loss function, and optimizer to make sure they're appropriate for an image classification task."
   ]
  },
  {
   "cell_type": "code",
   "execution_count": 12,
   "metadata": {},
   "outputs": [
    {
     "name": "stdout",
     "output_type": "stream",
     "text": [
      "Accuracy: 92.00%\n"
     ]
    }
   ],
   "source": [
    "correct_predictions = 0\n",
    "total_predictions = 0\n",
    "\n",
    "for inputs, labels in test_loader:\n",
    "    if torch.cuda.is_available():\n",
    "        inputs, labels = inputs.to(device), labels.to(device)\n",
    "        \n",
    "    outputs = net(inputs)\n",
    "    _, preds = torch.max(outputs.data, 1)\n",
    "    total_predictions += labels.size(0)\n",
    "    correct_predictions += (preds == labels).sum().item()\n",
    "    accuracy = (correct_predictions / total_predictions) * 100\n",
    "    \n",
    "print(f\"Accuracy: {accuracy:.2f}%\")"
   ]
  },
  {
   "cell_type": "markdown",
   "metadata": {},
   "source": [
    "## Improving your model\n",
    "\n",
    "Once your model is done training, try tweaking your hyperparameters and training again below to improve your accuracy on the test set!"
   ]
  },
  {
   "cell_type": "code",
   "execution_count": 13,
   "metadata": {},
   "outputs": [],
   "source": [
    "# exprimenting with the optimizer\n",
    "optimizer = optim.Adam(net.parameters(), lr=1e-3, weight_decay=1e-4)"
   ]
  },
  {
   "cell_type": "markdown",
   "metadata": {},
   "source": [
    "## Saving your model\n",
    "Using `torch.save`, save your model for future loading."
   ]
  },
  {
   "cell_type": "code",
   "execution_count": 14,
   "metadata": {},
   "outputs": [
    {
     "name": "stdout",
     "output_type": "stream",
     "text": [
      "Epoch 1 training accuracy: 96.19% training loss: 0.12690\n",
      "Epoch 1 validation accuracy: 96.25% validation loss: 0.12997\n",
      "Epoch 2 training accuracy: 97.28% training loss: 0.09149\n",
      "Epoch 2 validation accuracy: 96.53% validation loss: 0.11877\n",
      "Epoch 3 training accuracy: 97.55% training loss: 0.08175\n",
      "Epoch 3 validation accuracy: 96.66% validation loss: 0.11224\n",
      "Epoch 4 training accuracy: 97.75% training loss: 0.07577\n",
      "Epoch 4 validation accuracy: 96.98% validation loss: 0.10731\n",
      "Epoch 5 training accuracy: 97.81% training loss: 0.07316\n",
      "Epoch 5 validation accuracy: 96.84% validation loss: 0.10707\n",
      "Epoch 6 training accuracy: 97.97% training loss: 0.06809\n",
      "Epoch 6 validation accuracy: 96.97% validation loss: 0.10309\n",
      "Epoch 7 training accuracy: 97.96% training loss: 0.06672\n",
      "Epoch 7 validation accuracy: 96.97% validation loss: 0.10344\n",
      "Epoch 8 training accuracy: 98.12% training loss: 0.06342\n",
      "Epoch 8 validation accuracy: 97.00% validation loss: 0.09929\n",
      "Epoch 9 training accuracy: 98.15% training loss: 0.06181\n",
      "Epoch 9 validation accuracy: 96.98% validation loss: 0.10089\n",
      "Epoch 10 training accuracy: 98.13% training loss: 0.06111\n",
      "Epoch 10 validation accuracy: 97.10% validation loss: 0.09892\n",
      "Epoch 11 training accuracy: 98.21% training loss: 0.06024\n",
      "Epoch 11 validation accuracy: 96.95% validation loss: 0.10243\n",
      "Epoch 12 training accuracy: 98.24% training loss: 0.05921\n",
      "Epoch 12 validation accuracy: 97.02% validation loss: 0.10104\n",
      "Epoch 13 training accuracy: 98.35% training loss: 0.05695\n",
      "Epoch 13 validation accuracy: 97.08% validation loss: 0.09721\n",
      "Epoch 14 training accuracy: 98.38% training loss: 0.05497\n",
      "Epoch 14 validation accuracy: 97.04% validation loss: 0.09635\n",
      "Epoch 15 training accuracy: 98.36% training loss: 0.05471\n",
      "Epoch 15 validation accuracy: 97.22% validation loss: 0.09528\n",
      "Epoch 16 training accuracy: 98.34% training loss: 0.05590\n",
      "Epoch 16 validation accuracy: 97.19% validation loss: 0.09707\n",
      "Epoch 17 training accuracy: 98.44% training loss: 0.05392\n",
      "Epoch 17 validation accuracy: 96.72% validation loss: 0.10590\n",
      "Epoch 18 training accuracy: 98.36% training loss: 0.05474\n",
      "Epoch 18 validation accuracy: 97.17% validation loss: 0.09861\n",
      "Epoch 19 training accuracy: 98.31% training loss: 0.05551\n",
      "Epoch 19 validation accuracy: 96.81% validation loss: 0.10540\n",
      "Epoch 20 training accuracy: 98.48% training loss: 0.05198\n",
      "Epoch 20 validation accuracy: 97.01% validation loss: 0.09973\n"
     ]
    }
   ],
   "source": [
    "num_epochs = 20\n",
    "train_loss_history = []\n",
    "val_loss_history = []\n",
    "\n",
    "device = torch.device(\"cuda\" if torch.cuda.is_available() else \"cpu\")\n",
    "net.to(device)\n",
    "\n",
    "for epoch in range(num_epochs):\n",
    "    # Training\n",
    "    net.train()\n",
    "    train_loss_sum = 0.0\n",
    "    train_correct = 0\n",
    "    train_seen = 0\n",
    "\n",
    "    for inputs, labels in train_loader:\n",
    "        inputs = inputs.to(device)\n",
    "        labels = labels.to(device)\n",
    "\n",
    "        optimizer.zero_grad()\n",
    "        outputs = net(inputs)\n",
    "        loss = criterion(outputs, labels)\n",
    "        loss.backward()\n",
    "        optimizer.step()\n",
    "\n",
    "        preds = outputs.argmax(dim=1)\n",
    "        train_correct += (preds == labels).sum().item()\n",
    "        train_loss_sum += loss.item() * inputs.size(0)\n",
    "        train_seen += inputs.size(0)\n",
    "\n",
    "    train_loss = train_loss_sum / train_seen\n",
    "    train_acc = train_correct / train_seen * 100\n",
    "    train_loss_history.append(train_loss)\n",
    "    print(f\"Epoch {epoch+1} training accuracy: {train_acc:.2f}% training loss: {train_loss:.5f}\")\n",
    "\n",
    "    # Validation\n",
    "    net.eval()\n",
    "    val_loss_sum = 0.0\n",
    "    val_correct = 0\n",
    "    val_seen = 0\n",
    "\n",
    "    with torch.no_grad():\n",
    "        for inputs, labels in val_loader:  # use val_loader here\n",
    "            inputs = inputs.to(device)\n",
    "            labels = labels.to(device)\n",
    "\n",
    "            outputs = net(inputs)\n",
    "            loss = criterion(outputs, labels)\n",
    "\n",
    "            preds = outputs.argmax(dim=1)\n",
    "            val_correct += (preds == labels).sum().item()\n",
    "            val_loss_sum += loss.item() * inputs.size(0)\n",
    "            val_seen += inputs.size(0)\n",
    "\n",
    "    val_loss = val_loss_sum / val_seen\n",
    "    val_acc = val_correct / val_seen * 100\n",
    "    val_loss_history.append(val_loss)\n",
    "    print(f\"Epoch {epoch+1} validation accuracy: {val_acc:.2f}% validation loss: {val_loss:.5f}\")"
   ]
  },
  {
   "cell_type": "code",
   "execution_count": 15,
   "metadata": {},
   "outputs": [
    {
     "name": "stdout",
     "output_type": "stream",
     "text": [
      "Accuracy: 97.36%\n"
     ]
    }
   ],
   "source": [
    "correct_predictions = 0\n",
    "total_predictions = 0\n",
    "\n",
    "for inputs, labels in test_loader:\n",
    "    if torch.cuda.is_available():\n",
    "        inputs, labels = inputs.to(device), labels.to(device)\n",
    "        \n",
    "    outputs = net(inputs)\n",
    "    _, preds = torch.max(outputs.data, 1)\n",
    "    total_predictions += labels.size(0)\n",
    "    correct_predictions += (preds == labels).sum().item()\n",
    "    accuracy = (correct_predictions / total_predictions) * 100\n",
    "    \n",
    "print(f\"Accuracy: {accuracy:.2f}%\")"
   ]
  },
  {
   "cell_type": "code",
   "execution_count": 16,
   "metadata": {},
   "outputs": [],
   "source": [
    "torch.save(net.state_dict(), \"saved_AI.pth\")"
   ]
  },
  {
   "cell_type": "code",
   "execution_count": null,
   "metadata": {},
   "outputs": [],
   "source": []
  },
  {
   "cell_type": "code",
   "execution_count": null,
   "metadata": {},
   "outputs": [],
   "source": []
  }
 ],
 "metadata": {
  "kernelspec": {
   "display_name": "Python 3",
   "language": "python",
   "name": "python3"
  },
  "language_info": {
   "codemirror_mode": {
    "name": "ipython",
    "version": 3
   },
   "file_extension": ".py",
   "mimetype": "text/x-python",
   "name": "python",
   "nbconvert_exporter": "python",
   "pygments_lexer": "ipython3",
   "version": "3.7.6"
  }
 },
 "nbformat": 4,
 "nbformat_minor": 4
}
